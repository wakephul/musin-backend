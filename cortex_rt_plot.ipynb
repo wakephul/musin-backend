{
 "cells": [
  {
   "cell_type": "code",
   "execution_count": 2,
   "metadata": {},
   "outputs": [
    {
     "ename": "TypeError",
     "evalue": "'>=' not supported between instances of 'list' and 'int'",
     "output_type": "error",
     "traceback": [
      "\u001b[0;31m---------------------------------------------------------------------------\u001b[0m",
      "\u001b[0;31mTypeError\u001b[0m                                 Traceback (most recent call last)",
      "\u001b[0;32m/tmp/ipykernel_1076755/1487713818.py\u001b[0m in \u001b[0;36m<module>\u001b[0;34m\u001b[0m\n\u001b[1;32m     22\u001b[0m \u001b[0mth\u001b[0m \u001b[0;34m=\u001b[0m \u001b[0;36m15\u001b[0m\u001b[0;34m\u001b[0m\u001b[0;34m\u001b[0m\u001b[0m\n\u001b[1;32m     23\u001b[0m \u001b[0mresponse_times\u001b[0m \u001b[0;34m=\u001b[0m \u001b[0;34m[\u001b[0m\u001b[0;34m]\u001b[0m\u001b[0;34m\u001b[0m\u001b[0;34m\u001b[0m\u001b[0m\n\u001b[0;32m---> 24\u001b[0;31m \u001b[0mresponse_times_A\u001b[0m \u001b[0;34m=\u001b[0m \u001b[0mcalculate_response_times\u001b[0m\u001b[0;34m(\u001b[0m\u001b[0mma_rates_A\u001b[0m\u001b[0;34m,\u001b[0m \u001b[0mth\u001b[0m\u001b[0;34m,\u001b[0m \u001b[0mtrial_time\u001b[0m\u001b[0;34m,\u001b[0m \u001b[0mbin_size\u001b[0m\u001b[0;34m)\u001b[0m\u001b[0;34m\u001b[0m\u001b[0;34m\u001b[0m\u001b[0m\n\u001b[0m\u001b[1;32m     25\u001b[0m \u001b[0;32mfor\u001b[0m \u001b[0mrt\u001b[0m \u001b[0;32min\u001b[0m \u001b[0mresponse_times_A\u001b[0m\u001b[0;34m:\u001b[0m\u001b[0;34m\u001b[0m\u001b[0;34m\u001b[0m\u001b[0m\n\u001b[1;32m     26\u001b[0m     \u001b[0mresponse_times\u001b[0m\u001b[0;34m.\u001b[0m\u001b[0mappend\u001b[0m\u001b[0;34m(\u001b[0m\u001b[0mrt\u001b[0m\u001b[0;34m%\u001b[0m\u001b[0;36m1000\u001b[0m\u001b[0;34m)\u001b[0m\u001b[0;34m\u001b[0m\u001b[0;34m\u001b[0m\u001b[0m\n",
      "\u001b[0;32m~/sensorycerebellum/src/nest/output/rates.py\u001b[0m in \u001b[0;36mcalculate_response_times\u001b[0;34m(values, threshold, trial_time, bin_size)\u001b[0m\n\u001b[1;32m     57\u001b[0m     \u001b[0mresponse_times\u001b[0m \u001b[0;34m=\u001b[0m \u001b[0;34m[\u001b[0m\u001b[0;34m]\u001b[0m\u001b[0;34m\u001b[0m\u001b[0;34m\u001b[0m\u001b[0m\n\u001b[1;32m     58\u001b[0m     \u001b[0;32mfor\u001b[0m \u001b[0mvalues_index\u001b[0m\u001b[0;34m,\u001b[0m \u001b[0mtrial_values\u001b[0m \u001b[0;32min\u001b[0m \u001b[0menumerate\u001b[0m\u001b[0;34m(\u001b[0m\u001b[0mvalues_into_trials\u001b[0m\u001b[0;34m)\u001b[0m\u001b[0;34m:\u001b[0m\u001b[0;34m\u001b[0m\u001b[0;34m\u001b[0m\u001b[0m\n\u001b[0;32m---> 59\u001b[0;31m         \u001b[0mtime_ids\u001b[0m \u001b[0;34m=\u001b[0m \u001b[0;34m[\u001b[0m\u001b[0mtime_id\u001b[0m \u001b[0;32mfor\u001b[0m \u001b[0mtime_id\u001b[0m\u001b[0;34m,\u001b[0m \u001b[0mvalue\u001b[0m \u001b[0;32min\u001b[0m \u001b[0menumerate\u001b[0m\u001b[0;34m(\u001b[0m\u001b[0mtrial_values\u001b[0m\u001b[0;34m)\u001b[0m \u001b[0;32mif\u001b[0m \u001b[0mvalue\u001b[0m \u001b[0;34m>=\u001b[0m \u001b[0mthreshold\u001b[0m\u001b[0;34m]\u001b[0m\u001b[0;34m\u001b[0m\u001b[0;34m\u001b[0m\u001b[0m\n\u001b[0m\u001b[1;32m     60\u001b[0m         \u001b[0;32mif\u001b[0m \u001b[0mlen\u001b[0m\u001b[0;34m(\u001b[0m\u001b[0mtime_ids\u001b[0m\u001b[0;34m)\u001b[0m\u001b[0;34m:\u001b[0m\u001b[0;34m\u001b[0m\u001b[0;34m\u001b[0m\u001b[0m\n\u001b[1;32m     61\u001b[0m             \u001b[0mfirst_time_id\u001b[0m \u001b[0;34m=\u001b[0m \u001b[0mtime_ids\u001b[0m\u001b[0;34m[\u001b[0m\u001b[0;36m0\u001b[0m\u001b[0;34m]\u001b[0m\u001b[0;34m\u001b[0m\u001b[0;34m\u001b[0m\u001b[0m\n",
      "\u001b[0;32m~/sensorycerebellum/src/nest/output/rates.py\u001b[0m in \u001b[0;36m<listcomp>\u001b[0;34m(.0)\u001b[0m\n\u001b[1;32m     57\u001b[0m     \u001b[0mresponse_times\u001b[0m \u001b[0;34m=\u001b[0m \u001b[0;34m[\u001b[0m\u001b[0;34m]\u001b[0m\u001b[0;34m\u001b[0m\u001b[0;34m\u001b[0m\u001b[0m\n\u001b[1;32m     58\u001b[0m     \u001b[0;32mfor\u001b[0m \u001b[0mvalues_index\u001b[0m\u001b[0;34m,\u001b[0m \u001b[0mtrial_values\u001b[0m \u001b[0;32min\u001b[0m \u001b[0menumerate\u001b[0m\u001b[0;34m(\u001b[0m\u001b[0mvalues_into_trials\u001b[0m\u001b[0;34m)\u001b[0m\u001b[0;34m:\u001b[0m\u001b[0;34m\u001b[0m\u001b[0;34m\u001b[0m\u001b[0m\n\u001b[0;32m---> 59\u001b[0;31m         \u001b[0mtime_ids\u001b[0m \u001b[0;34m=\u001b[0m \u001b[0;34m[\u001b[0m\u001b[0mtime_id\u001b[0m \u001b[0;32mfor\u001b[0m \u001b[0mtime_id\u001b[0m\u001b[0;34m,\u001b[0m \u001b[0mvalue\u001b[0m \u001b[0;32min\u001b[0m \u001b[0menumerate\u001b[0m\u001b[0;34m(\u001b[0m\u001b[0mtrial_values\u001b[0m\u001b[0;34m)\u001b[0m \u001b[0;32mif\u001b[0m \u001b[0mvalue\u001b[0m \u001b[0;34m>=\u001b[0m \u001b[0mthreshold\u001b[0m\u001b[0;34m]\u001b[0m\u001b[0;34m\u001b[0m\u001b[0;34m\u001b[0m\u001b[0m\n\u001b[0m\u001b[1;32m     60\u001b[0m         \u001b[0;32mif\u001b[0m \u001b[0mlen\u001b[0m\u001b[0;34m(\u001b[0m\u001b[0mtime_ids\u001b[0m\u001b[0;34m)\u001b[0m\u001b[0;34m:\u001b[0m\u001b[0;34m\u001b[0m\u001b[0;34m\u001b[0m\u001b[0m\n\u001b[1;32m     61\u001b[0m             \u001b[0mfirst_time_id\u001b[0m \u001b[0;34m=\u001b[0m \u001b[0mtime_ids\u001b[0m\u001b[0;34m[\u001b[0m\u001b[0;36m0\u001b[0m\u001b[0;34m]\u001b[0m\u001b[0;34m\u001b[0m\u001b[0;34m\u001b[0m\u001b[0m\n",
      "\u001b[0;31mTypeError\u001b[0m: '>=' not supported between instances of 'list' and 'int'"
     ]
    }
   ],
   "source": [
    "from src.nest.plots.generate import moving_average_plot_no_save\n",
    "from src.nest.output.rates import calculate_response_times\n",
    "import json\n",
    "\n",
    "# 68 is AUDITORY for 100 times\n",
    "# 91 is VISUAL for 100 times\n",
    "# 93 is BOTH, MERGED for 100 times\n",
    "# 100 is BOTH, DIFFERENT CORTEXES for 50 times\n",
    "exec = '_68'\n",
    "sim = 'cortex_1/1'\n",
    "with open('output/executions/'+exec+'/simulations/'+sim+'/bin_rates_A_complete.json', 'r') as j:\n",
    "    bin_rates_A_complete = json.loads(j.read())\n",
    "with open('output/executions/'+exec+'/simulations/'+sim+'/bin_rates_B_complete.json', 'r') as j:\n",
    "    bin_rates_B_complete = json.loads(j.read())\n",
    "\n",
    "ma_rates_A = moving_average_plot_no_save(bin_rates_A_complete)\n",
    "ma_rates_B = moving_average_plot_no_save(bin_rates_B_complete)\n",
    "\n",
    "trial_time = 3000\n",
    "bin_size = 5\n",
    "\n",
    "th = 15\n",
    "response_times = []\n",
    "response_times_A = calculate_response_times(ma_rates_A, th, trial_time, bin_size)\n",
    "for rt in response_times_A:\n",
    "    response_times.append(rt%1000)\n",
    "\n",
    "response_times_B = calculate_response_times(ma_rates_B, th, trial_time, bin_size)\n",
    "for rt in response_times_B:\n",
    "    response_times.append(rt%1000)\n",
    "\n",
    "print('AUDITORY', response_times)\n",
    "\n",
    "response_times_auditory = response_times\n",
    "\n",
    "exec = 'cortex_2/2'\n",
    "with open('output/executions/100/simulations/'+exec+'/bin_rates_A_complete.json', 'r') as j:\n",
    "    bin_rates_A_complete = json.loads(j.read())\n",
    "with open('output/executions/100/simulations/'+exec+'/bin_rates_B_complete.json', 'r') as j:\n",
    "    bin_rates_B_complete = json.loads(j.read())\n",
    "\n",
    "ma_rates_A = moving_average_plot_no_save(bin_rates_A_complete)\n",
    "ma_rates_B = moving_average_plot_no_save(bin_rates_B_complete)\n",
    "\n",
    "trial_time = 3000\n",
    "bin_size = 5\n",
    "\n",
    "th = 15\n",
    "response_times = []\n",
    "response_times_A = calculate_response_times(ma_rates_A, th, trial_time, bin_size)\n",
    "for rt in response_times_A:\n",
    "    response_times.append(rt%1000)\n",
    "\n",
    "response_times_B = calculate_response_times(ma_rates_B, th, trial_time, bin_size)\n",
    "for rt in response_times_B:\n",
    "    response_times.append(rt%1000)\n",
    "\n",
    "print('VISUAL: ', response_times)\n",
    "\n",
    "response_times_visual = response_times\n",
    "\n",
    "\n",
    "\n",
    "# CDF plot for spike times\n",
    "import numpy as np\n",
    "import matplotlib.pyplot as plt\n",
    "\n",
    "race_model = np.minimum.reduce([response_times_visual, response_times_auditory])\n",
    "\n",
    "print('FINAL: ', race_model)\n",
    "\n",
    "def cdf_calc(data):\n",
    "    count, bins_count = np.histogram(data, bins=10)\n",
    "    pdf = count / sum(count)\n",
    "    cdf = np.cumsum(pdf)\n",
    "    return bins_count, cdf\n",
    "\n",
    "bins_count_visual, cdf_visual = cdf_calc(response_times_visual)\n",
    "bins_count_auditory, cdf_auditory = cdf_calc(response_times_auditory)\n",
    "bins_count_racemodel, cdf_racemodel = cdf_calc(race_model)\n",
    "  \n",
    "plt.xlim(0, 600)\n",
    "# plt.plot(bins_count[1:], pdf, color=\"red\", label=\"PDF\")\n",
    "plt.plot(bins_count_visual[1:], cdf_visual, '--o', label=\"CDF visual\")\n",
    "plt.plot(bins_count_auditory[1:], cdf_auditory, '--o', label=\"CDF auditory\")\n",
    "plt.plot(bins_count_racemodel[1:], cdf_racemodel, '--o', label=\"CDF racemodel\")\n",
    "plt.legend()\n",
    "plt.show()"
   ]
  },
  {
   "cell_type": "code",
   "execution_count": null,
   "metadata": {},
   "outputs": [],
   "source": []
  }
 ],
 "metadata": {
  "kernelspec": {
   "display_name": "Python 3.8.10 64-bit",
   "language": "python",
   "name": "python3"
  },
  "language_info": {
   "codemirror_mode": {
    "name": "ipython",
    "version": 3
   },
   "file_extension": ".py",
   "mimetype": "text/x-python",
   "name": "python",
   "nbconvert_exporter": "python",
   "pygments_lexer": "ipython3",
   "version": "3.8.10"
  },
  "orig_nbformat": 4,
  "vscode": {
   "interpreter": {
    "hash": "e7370f93d1d0cde622a1f8e1c04877d8463912d04d973331ad4851f04de6915a"
   }
  }
 },
 "nbformat": 4,
 "nbformat_minor": 2
}
