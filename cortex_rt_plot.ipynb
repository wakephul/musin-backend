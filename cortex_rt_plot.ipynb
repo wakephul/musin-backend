{
 "cells": [
  {
   "cell_type": "code",
   "execution_count": 1,
   "metadata": {},
   "outputs": [
    {
     "name": "stdout",
     "output_type": "stream",
     "text": [
      "[INFO] [2022.8.19 16:40:5 /home/ubuntu/workspace/nest-simulator-2.18.0/nestkernel/rng_manager.cpp:217 @ Network::create_rngs_] : Creating default RNGs\n",
      "[INFO] [2022.8.19 16:40:5 /home/ubuntu/workspace/nest-simulator-2.18.0/nestkernel/rng_manager.cpp:260 @ Network::create_grng_] : Creating new default global RNG\n",
      "\n",
      "              -- N E S T --\n",
      "  Copyright (C) 2004 The NEST Initiative\n",
      "\n",
      " Version: nest-2.18.0\n",
      " Built: Aug  6 2021 13:26:04\n",
      "\n",
      " This program is provided AS IS and comes with\n",
      " NO WARRANTY. See the file LICENSE for details.\n",
      "\n",
      " Problems or suggestions?\n",
      "   Visit https://www.nest-simulator.org\n",
      "\n",
      " Type 'nest.help()' to find out more about NEST.\n",
      "\n",
      "AUDITORY []\n",
      "VISUAL:  [80, 70, 85, 120, 80, 70, 90, 95, 85, 95, 105, 95, 110, 115, 110, 80, 85, 70, 115, 110, 125, 115, 115, 120, 85, 285, 250, 270, 340, 275, 365, 295, 295, 300, 355, 360, 300, 340, 260, 285, 365, 265, 260, 300, 330, 270, 300, 270, 270, 290]\n",
      "FINAL:  []\n"
     ]
    },
    {
     "name": "stderr",
     "output_type": "stream",
     "text": [
      "/tmp/ipykernel_128549/1624135540.py:68: VisibleDeprecationWarning:Creating an ndarray from ragged nested sequences (which is a list-or-tuple of lists-or-tuples-or ndarrays with different lengths or shapes) is deprecated. If you meant to do this, you must specify 'dtype=object' when creating the ndarray.\n",
      "/tmp/ipykernel_128549/1624135540.py:74: RuntimeWarning:invalid value encountered in true_divide\n"
     ]
    },
    {
     "data": {
      "image/png": "[encoded data removed]",
      "text/plain": [
       "<Figure size 432x288 with 1 Axes>"
      ]
     },
     "metadata": {
      "needs_background": "light"
     },
     "output_type": "display_data"
    }
   ],
   "source": [
    "from src.nest.plots.generate import moving_average_plot_no_save\n",
    "from src.nest.output.rates import calculate_response_times\n",
    "import json\n",
    "\n",
    "# 68 is AUDITORY for 100 times\n",
    "# 91 is VISUAL for 100 times\n",
    "# 93 is BOTH, MERGED for 100 times\n",
    "# 100 is BOTH, DIFFERENT CORTEXES for 50 times\n",
    "exec = '187'\n",
    "sim = 'cortex_1/1'\n",
    "with open('output/executions/'+exec+'/simulations/'+sim+'/bin_rates_A_complete.json', 'r') as j:\n",
    "    bin_rates_A_complete = json.loads(j.read())\n",
    "with open('output/executions/'+exec+'/simulations/'+sim+'/bin_rates_B_complete.json', 'r') as j:\n",
    "    bin_rates_B_complete = json.loads(j.read())\n",
    "\n",
    "ma_rates_A = moving_average_plot_no_save(bin_rates_A_complete)\n",
    "ma_rates_B = moving_average_plot_no_save(bin_rates_B_complete)\n",
    "\n",
    "trial_time = 3000\n",
    "bin_size = 5\n",
    "\n",
    "th = 15\n",
    "response_times = []\n",
    "response_times_A = calculate_response_times(ma_rates_A, th, trial_time, bin_size)\n",
    "for rt in response_times_A:\n",
    "    response_times.append(rt%1000)\n",
    "\n",
    "response_times_B = calculate_response_times(ma_rates_B, th, trial_time, bin_size)\n",
    "for rt in response_times_B:\n",
    "    response_times.append(rt%1000)\n",
    "\n",
    "print('AUDITORY', response_times)\n",
    "\n",
    "response_times_auditory = response_times\n",
    "\n",
    "exec = 'cortex_2/2'\n",
    "with open('output/executions/100/simulations/'+exec+'/bin_rates_A_complete.json', 'r') as j:\n",
    "    bin_rates_A_complete = json.loads(j.read())\n",
    "with open('output/executions/100/simulations/'+exec+'/bin_rates_B_complete.json', 'r') as j:\n",
    "    bin_rates_B_complete = json.loads(j.read())\n",
    "\n",
    "ma_rates_A = moving_average_plot_no_save(bin_rates_A_complete)\n",
    "ma_rates_B = moving_average_plot_no_save(bin_rates_B_complete)\n",
    "\n",
    "trial_time = 3000\n",
    "bin_size = 5\n",
    "\n",
    "th = 15\n",
    "response_times = []\n",
    "response_times_A = calculate_response_times(ma_rates_A, th, trial_time, bin_size)\n",
    "for rt in response_times_A:\n",
    "    response_times.append(rt%1000)\n",
    "\n",
    "response_times_B = calculate_response_times(ma_rates_B, th, trial_time, bin_size)\n",
    "for rt in response_times_B:\n",
    "    response_times.append(rt%1000)\n",
    "\n",
    "print('VISUAL: ', response_times)\n",
    "\n",
    "response_times_visual = response_times\n",
    "\n",
    "\n",
    "\n",
    "# CDF plot for spike times\n",
    "import numpy as np\n",
    "import matplotlib.pyplot as plt\n",
    "\n",
    "race_model = np.minimum.reduce([response_times_visual, response_times_auditory])\n",
    "\n",
    "print('FINAL: ', race_model)\n",
    "\n",
    "def cdf_calc(data):\n",
    "    count, bins_count = np.histogram(data, bins=10)\n",
    "    pdf = count / sum(count)\n",
    "    cdf = np.cumsum(pdf)\n",
    "    return bins_count, cdf\n",
    "\n",
    "bins_count_visual, cdf_visual = cdf_calc(response_times_visual)\n",
    "bins_count_auditory, cdf_auditory = cdf_calc(response_times_auditory)\n",
    "bins_count_racemodel, cdf_racemodel = cdf_calc(race_model)\n",
    "  \n",
    "plt.xlim(0, 600)\n",
    "# plt.plot(bins_count[1:], pdf, color=\"red\", label=\"PDF\")\n",
    "plt.plot(bins_count_visual[1:], cdf_visual, '--o', label=\"CDF visual\")\n",
    "plt.plot(bins_count_auditory[1:], cdf_auditory, '--o', label=\"CDF auditory\")\n",
    "plt.plot(bins_count_racemodel[1:], cdf_racemodel, '--o', label=\"CDF racemodel\")\n",
    "plt.legend()\n",
    "plt.show()"
   ]
  },
  {
   "cell_type": "code",
   "execution_count": null,
   "metadata": {},
   "outputs": [],
   "source": []
  }
 ],
 "metadata": {
  "kernelspec": {
   "display_name": "Python 3.8.10 64-bit",
   "language": "python",
   "name": "python3"
  },
  "language_info": {
   "codemirror_mode": {
    "name": "ipython",
    "version": 3
   },
   "file_extension": ".py",
   "mimetype": "text/x-python",
   "name": "python",
   "nbconvert_exporter": "python",
   "pygments_lexer": "ipython3",
   "version": "3.8.10"
  },
  "orig_nbformat": 4,
  "vscode": {
   "interpreter": {
    "hash": "e7370f93d1d0cde622a1f8e1c04877d8463912d04d973331ad4851f04de6915a"
   }
  }
 },
 "nbformat": 4,
 "nbformat_minor": 2
}
