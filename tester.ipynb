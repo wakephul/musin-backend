{
 "cells": [
  {
   "cell_type": "code",
   "execution_count": 1,
   "id": "72eadb3c-cee0-4d92-90c0-89ee555c177e",
   "metadata": {},
   "outputs": [],
   "source": [
    "import json\n",
    "\n",
    "with open('output/executions/36/simulations/cortex_1/1/bin_rates_B.json', 'r') as j:\n",
    "     contents = json.loads(j.read())"
   ]
  },
  {
   "cell_type": "code",
   "execution_count": 3,
   "id": "3f211da3-50c3-4fae-8426-6b6031197459",
   "metadata": {},
   "outputs": [
    {
     "name": "stdout",
     "output_type": "stream",
     "text": [
      "2262\n",
      "2252\n"
     ]
    }
   ],
   "source": [
    "times = list(map(int, list(contents.keys())))\n",
    "values = list(contents.values())\n",
    "values = [x for _, x in sorted(zip(times, values))]\n",
    "times = sorted(times)\n",
    "\n",
    "window_size = 10\n",
    "i = window_size//2\n",
    "ma = []\n",
    "\n",
    "values = values+values+values+values\n",
    "values = [0 for x in range(window_size//2)] + values + [0 for x in range(window_size//2)]\n",
    "\n",
    "while i < (len(values) - window_size//2):\n",
    "    \n",
    "    window = values[(i - window_size//2) : (i + window_size//2)]\n",
    "    window_average = round(sum(window) / window_size, 2)\n",
    "    \n",
    "    ma.append(window_average)\n",
    "    \n",
    "    i += 1\n",
    "\n",
    "print(len(values))\n",
    "print(len(ma))\n",
    "  "
   ]
  },
  {
   "cell_type": "code",
   "execution_count": 5,
   "id": "84739043-deba-4511-930f-99e37826bcfb",
   "metadata": {},
   "outputs": [
    {
     "name": "stdout",
     "output_type": "stream",
     "text": [
      "9008\n",
      "2252\n"
     ]
    },
    {
     "ename": "ValueError",
     "evalue": "x and y must have same first dimension, but have shapes (9008,) and (2252,)",
     "output_type": "error",
     "traceback": [
      "\u001b[0;31m---------------------------------------------------------------------------\u001b[0m",
      "\u001b[0;31mValueError\u001b[0m                                Traceback (most recent call last)",
      "\u001b[0;32m/tmp/ipykernel_975745/3258518030.py\u001b[0m in \u001b[0;36m<module>\u001b[0;34m\u001b[0m\n\u001b[1;32m      3\u001b[0m \u001b[0mprint\u001b[0m\u001b[0;34m(\u001b[0m\u001b[0mlen\u001b[0m\u001b[0;34m(\u001b[0m\u001b[0mtimes\u001b[0m\u001b[0;34m)\u001b[0m\u001b[0;34m)\u001b[0m\u001b[0;34m\u001b[0m\u001b[0;34m\u001b[0m\u001b[0m\n\u001b[1;32m      4\u001b[0m \u001b[0mprint\u001b[0m\u001b[0;34m(\u001b[0m\u001b[0mlen\u001b[0m\u001b[0;34m(\u001b[0m\u001b[0mma\u001b[0m\u001b[0;34m)\u001b[0m\u001b[0;34m)\u001b[0m\u001b[0;34m\u001b[0m\u001b[0;34m\u001b[0m\u001b[0m\n\u001b[0;32m----> 5\u001b[0;31m \u001b[0mplt\u001b[0m\u001b[0;34m.\u001b[0m\u001b[0mplot\u001b[0m\u001b[0;34m(\u001b[0m\u001b[0mtimes\u001b[0m\u001b[0;34m,\u001b[0m \u001b[0mma\u001b[0m\u001b[0;34m)\u001b[0m\u001b[0;34m\u001b[0m\u001b[0;34m\u001b[0m\u001b[0m\n\u001b[0m",
      "\u001b[0;32m~/.local/lib/python3.8/site-packages/matplotlib/pyplot.py\u001b[0m in \u001b[0;36mplot\u001b[0;34m(scalex, scaley, data, *args, **kwargs)\u001b[0m\n\u001b[1;32m   3017\u001b[0m \u001b[0;34m@\u001b[0m\u001b[0m_copy_docstring_and_deprecators\u001b[0m\u001b[0;34m(\u001b[0m\u001b[0mAxes\u001b[0m\u001b[0;34m.\u001b[0m\u001b[0mplot\u001b[0m\u001b[0;34m)\u001b[0m\u001b[0;34m\u001b[0m\u001b[0;34m\u001b[0m\u001b[0m\n\u001b[1;32m   3018\u001b[0m \u001b[0;32mdef\u001b[0m \u001b[0mplot\u001b[0m\u001b[0;34m(\u001b[0m\u001b[0;34m*\u001b[0m\u001b[0margs\u001b[0m\u001b[0;34m,\u001b[0m \u001b[0mscalex\u001b[0m\u001b[0;34m=\u001b[0m\u001b[0;32mTrue\u001b[0m\u001b[0;34m,\u001b[0m \u001b[0mscaley\u001b[0m\u001b[0;34m=\u001b[0m\u001b[0;32mTrue\u001b[0m\u001b[0;34m,\u001b[0m \u001b[0mdata\u001b[0m\u001b[0;34m=\u001b[0m\u001b[0;32mNone\u001b[0m\u001b[0;34m,\u001b[0m \u001b[0;34m**\u001b[0m\u001b[0mkwargs\u001b[0m\u001b[0;34m)\u001b[0m\u001b[0;34m:\u001b[0m\u001b[0;34m\u001b[0m\u001b[0;34m\u001b[0m\u001b[0m\n\u001b[0;32m-> 3019\u001b[0;31m     return gca().plot(\n\u001b[0m\u001b[1;32m   3020\u001b[0m         \u001b[0;34m*\u001b[0m\u001b[0margs\u001b[0m\u001b[0;34m,\u001b[0m \u001b[0mscalex\u001b[0m\u001b[0;34m=\u001b[0m\u001b[0mscalex\u001b[0m\u001b[0;34m,\u001b[0m \u001b[0mscaley\u001b[0m\u001b[0;34m=\u001b[0m\u001b[0mscaley\u001b[0m\u001b[0;34m,\u001b[0m\u001b[0;34m\u001b[0m\u001b[0;34m\u001b[0m\u001b[0m\n\u001b[1;32m   3021\u001b[0m         **({\"data\": data} if data is not None else {}), **kwargs)\n",
      "\u001b[0;32m~/.local/lib/python3.8/site-packages/matplotlib/axes/_axes.py\u001b[0m in \u001b[0;36mplot\u001b[0;34m(self, scalex, scaley, data, *args, **kwargs)\u001b[0m\n\u001b[1;32m   1603\u001b[0m         \"\"\"\n\u001b[1;32m   1604\u001b[0m         \u001b[0mkwargs\u001b[0m \u001b[0;34m=\u001b[0m \u001b[0mcbook\u001b[0m\u001b[0;34m.\u001b[0m\u001b[0mnormalize_kwargs\u001b[0m\u001b[0;34m(\u001b[0m\u001b[0mkwargs\u001b[0m\u001b[0;34m,\u001b[0m \u001b[0mmlines\u001b[0m\u001b[0;34m.\u001b[0m\u001b[0mLine2D\u001b[0m\u001b[0;34m)\u001b[0m\u001b[0;34m\u001b[0m\u001b[0;34m\u001b[0m\u001b[0m\n\u001b[0;32m-> 1605\u001b[0;31m         \u001b[0mlines\u001b[0m \u001b[0;34m=\u001b[0m \u001b[0;34m[\u001b[0m\u001b[0;34m*\u001b[0m\u001b[0mself\u001b[0m\u001b[0;34m.\u001b[0m\u001b[0m_get_lines\u001b[0m\u001b[0;34m(\u001b[0m\u001b[0;34m*\u001b[0m\u001b[0margs\u001b[0m\u001b[0;34m,\u001b[0m \u001b[0mdata\u001b[0m\u001b[0;34m=\u001b[0m\u001b[0mdata\u001b[0m\u001b[0;34m,\u001b[0m \u001b[0;34m**\u001b[0m\u001b[0mkwargs\u001b[0m\u001b[0;34m)\u001b[0m\u001b[0;34m]\u001b[0m\u001b[0;34m\u001b[0m\u001b[0;34m\u001b[0m\u001b[0m\n\u001b[0m\u001b[1;32m   1606\u001b[0m         \u001b[0;32mfor\u001b[0m \u001b[0mline\u001b[0m \u001b[0;32min\u001b[0m \u001b[0mlines\u001b[0m\u001b[0;34m:\u001b[0m\u001b[0;34m\u001b[0m\u001b[0;34m\u001b[0m\u001b[0m\n\u001b[1;32m   1607\u001b[0m             \u001b[0mself\u001b[0m\u001b[0;34m.\u001b[0m\u001b[0madd_line\u001b[0m\u001b[0;34m(\u001b[0m\u001b[0mline\u001b[0m\u001b[0;34m)\u001b[0m\u001b[0;34m\u001b[0m\u001b[0;34m\u001b[0m\u001b[0m\n",
      "\u001b[0;32m~/.local/lib/python3.8/site-packages/matplotlib/axes/_base.py\u001b[0m in \u001b[0;36m__call__\u001b[0;34m(self, data, *args, **kwargs)\u001b[0m\n\u001b[1;32m    313\u001b[0m                 \u001b[0mthis\u001b[0m \u001b[0;34m+=\u001b[0m \u001b[0margs\u001b[0m\u001b[0;34m[\u001b[0m\u001b[0;36m0\u001b[0m\u001b[0;34m]\u001b[0m\u001b[0;34m,\u001b[0m\u001b[0;34m\u001b[0m\u001b[0;34m\u001b[0m\u001b[0m\n\u001b[1;32m    314\u001b[0m                 \u001b[0margs\u001b[0m \u001b[0;34m=\u001b[0m \u001b[0margs\u001b[0m\u001b[0;34m[\u001b[0m\u001b[0;36m1\u001b[0m\u001b[0;34m:\u001b[0m\u001b[0;34m]\u001b[0m\u001b[0;34m\u001b[0m\u001b[0;34m\u001b[0m\u001b[0m\n\u001b[0;32m--> 315\u001b[0;31m             \u001b[0;32myield\u001b[0m \u001b[0;32mfrom\u001b[0m \u001b[0mself\u001b[0m\u001b[0;34m.\u001b[0m\u001b[0m_plot_args\u001b[0m\u001b[0;34m(\u001b[0m\u001b[0mthis\u001b[0m\u001b[0;34m,\u001b[0m \u001b[0mkwargs\u001b[0m\u001b[0;34m)\u001b[0m\u001b[0;34m\u001b[0m\u001b[0;34m\u001b[0m\u001b[0m\n\u001b[0m\u001b[1;32m    316\u001b[0m \u001b[0;34m\u001b[0m\u001b[0m\n\u001b[1;32m    317\u001b[0m     \u001b[0;32mdef\u001b[0m \u001b[0mget_next_color\u001b[0m\u001b[0;34m(\u001b[0m\u001b[0mself\u001b[0m\u001b[0;34m)\u001b[0m\u001b[0;34m:\u001b[0m\u001b[0;34m\u001b[0m\u001b[0;34m\u001b[0m\u001b[0m\n",
      "\u001b[0;32m~/.local/lib/python3.8/site-packages/matplotlib/axes/_base.py\u001b[0m in \u001b[0;36m_plot_args\u001b[0;34m(self, tup, kwargs, return_kwargs)\u001b[0m\n\u001b[1;32m    499\u001b[0m \u001b[0;34m\u001b[0m\u001b[0m\n\u001b[1;32m    500\u001b[0m         \u001b[0;32mif\u001b[0m \u001b[0mx\u001b[0m\u001b[0;34m.\u001b[0m\u001b[0mshape\u001b[0m\u001b[0;34m[\u001b[0m\u001b[0;36m0\u001b[0m\u001b[0;34m]\u001b[0m \u001b[0;34m!=\u001b[0m \u001b[0my\u001b[0m\u001b[0;34m.\u001b[0m\u001b[0mshape\u001b[0m\u001b[0;34m[\u001b[0m\u001b[0;36m0\u001b[0m\u001b[0;34m]\u001b[0m\u001b[0;34m:\u001b[0m\u001b[0;34m\u001b[0m\u001b[0;34m\u001b[0m\u001b[0m\n\u001b[0;32m--> 501\u001b[0;31m             raise ValueError(f\"x and y must have same first dimension, but \"\n\u001b[0m\u001b[1;32m    502\u001b[0m                              f\"have shapes {x.shape} and {y.shape}\")\n\u001b[1;32m    503\u001b[0m         \u001b[0;32mif\u001b[0m \u001b[0mx\u001b[0m\u001b[0;34m.\u001b[0m\u001b[0mndim\u001b[0m \u001b[0;34m>\u001b[0m \u001b[0;36m2\u001b[0m \u001b[0;32mor\u001b[0m \u001b[0my\u001b[0m\u001b[0;34m.\u001b[0m\u001b[0mndim\u001b[0m \u001b[0;34m>\u001b[0m \u001b[0;36m2\u001b[0m\u001b[0;34m:\u001b[0m\u001b[0;34m\u001b[0m\u001b[0;34m\u001b[0m\u001b[0m\n",
      "\u001b[0;31mValueError\u001b[0m: x and y must have same first dimension, but have shapes (9008,) and (2252,)"
     ]
    },
    {
     "data": {
      "image/png": "[encoded data removed]",
      "text/plain": [
       "<Figure size 432x288 with 1 Axes>"
      ]
     },
     "metadata": {
      "needs_background": "light"
     },
     "output_type": "display_data"
    }
   ],
   "source": [
    "import matplotlib.pyplot as plt\n",
    "times = times+[t+3000 for t in times]+[t+6000 for t in times]+[t+9000 for t in times]\n",
    "print(len(times))\n",
    "print(len(ma))\n",
    "plt.plot(times, ma)"
   ]
  },
  {
   "cell_type": "code",
   "execution_count": 17,
   "id": "0bdd9873-a8cd-44a8-8ff4-f975f8720f69",
   "metadata": {},
   "outputs": [],
   "source": [
    "def divide_into_trials(seq, size):\n",
    "    return [seq[int(pos):(int(pos) + int(size))] for pos in range(0, len(seq), int(size))]"
   ]
  },
  {
   "cell_type": "code",
   "execution_count": 27,
   "id": "43008a2b",
   "metadata": {},
   "outputs": [
    {
     "name": "stdout",
     "output_type": "stream",
     "text": [
      "[[2, 3, 4, 5, 6], [7, 1, 1, 1, 1], [3, 4, 5, 6]]\n",
      "2\n",
      "0\n",
      "1\n",
      "[4, 10, 22]\n"
     ]
    }
   ],
   "source": [
    "values = [2,3,4,5,6,7,1,1,1,1,3,4,5,6]\n",
    "threshold = 4\n",
    "trial_time = 10\n",
    "bin_size = 2\n",
    "elements_for_trial = trial_time/bin_size\n",
    "values_into_trials = divide_into_trials(values, elements_for_trial)\n",
    "response_times = []\n",
    "print(values_into_trials)\n",
    "for values_index, trial_values in enumerate(values_into_trials):\n",
    "    time_ids = [time_id for time_id, value in enumerate(trial_values) if value >= threshold]\n",
    "    if len(time_ids):\n",
    "        first_time_id = time_ids[0]\n",
    "        print(first_time_id)\n",
    "        actual_time = (values_index*trial_time)+(first_time_id*bin_size)\n",
    "        response_times.append(actual_time)\n",
    "print(response_times)"
   ]
  },
  {
   "cell_type": "code",
   "execution_count": 10,
   "id": "11eedbd0",
   "metadata": {},
   "outputs": [
    {
     "name": "stdout",
     "output_type": "stream",
     "text": [
      "AUDITORY [80, 70, 85, 120, 80, 70, 90, 95, 85, 95, 105, 95, 110, 115, 110, 80, 85, 70, 115, 110, 125, 115, 115, 120, 85, 285, 250, 270, 340, 275, 365, 295, 295, 300, 355, 360, 300, 340, 260, 285, 365, 265, 260, 300, 330, 270, 300, 270, 270, 290]\n",
      "VISUAL:  [300, 355, 325, 295, 325, 365, 360, 365, 325, 355, 355, 340, 275, 325, 355, 325, 355, 355, 370, 355, 365, 355, 290, 355, 325, 290, 325, 385, 335, 270, 295, 335, 305, 295, 335, 335, 335, 295, 265, 335, 305, 270, 335, 335, 350, 340, 435, 405, 305, 335]\n",
      "FINAL:  [ 80  70  85 120  80  70  90  95  85  95 105  95 110 115 110  80  85  70\n",
      " 115 110 125 115 115 120  85 285 250 270 335 270 295 295 295 295 335 335\n",
      " 300 295 260 285 305 265 260 300 330 270 300 270 270 290]\n"
     ]
    },
    {
     "data": {
      "image/png": "[encoded data removed]",
      "text/plain": [
       "<Figure size 432x288 with 1 Axes>"
      ]
     },
     "metadata": {
      "needs_background": "light"
     },
     "output_type": "display_data"
    }
   ],
   "source": [
    "from src.nest.plots.generate import moving_average_plot\n",
    "from src.nest.output.rates import calculate_response_times\n",
    "import json\n",
    "\n",
    "# 68 is AUDITORY for 100 times\n",
    "# 91 is VISUAL for 100 times\n",
    "# 93 is BOTH, MERGED for 100 times\n",
    "# 100 is BOTH, DIFFERENT CORTEXES for 50 times\n",
    "exec = 'cortex_2/2'\n",
    "with open('output/executions/100/simulations/'+exec+'/bin_rates_A_complete.json', 'r') as j:\n",
    "    bin_rates_A_complete = json.loads(j.read())\n",
    "with open('output/executions/100/simulations/'+exec+'/bin_rates_B_complete.json', 'r') as j:\n",
    "    bin_rates_B_complete = json.loads(j.read())\n",
    "\n",
    "ma_rates_A = moving_average_plot(bin_rates_A_complete, 'plots/', 'ma_rates_A')\n",
    "ma_rates_B = moving_average_plot(bin_rates_B_complete, 'plots/', 'ma_rates_B')\n",
    "\n",
    "trial_time = 3000\n",
    "bin_size = 5\n",
    "\n",
    "th = 15\n",
    "response_times = []\n",
    "response_times_A = calculate_response_times(ma_rates_A, th, trial_time, bin_size)\n",
    "for rt in response_times_A:\n",
    "    response_times.append(rt%1000)\n",
    "\n",
    "response_times_B = calculate_response_times(ma_rates_B, th, trial_time, bin_size)\n",
    "for rt in response_times_B:\n",
    "    response_times.append(rt%1000)\n",
    "\n",
    "print('AUDITORY', response_times)\n",
    "\n",
    "response_times_auditory = response_times\n",
    "\n",
    "exec = 'cortex_1/1'\n",
    "with open('output/executions/100/simulations/'+exec+'/bin_rates_A_complete.json', 'r') as j:\n",
    "    bin_rates_A_complete = json.loads(j.read())\n",
    "with open('output/executions/100/simulations/'+exec+'/bin_rates_B_complete.json', 'r') as j:\n",
    "    bin_rates_B_complete = json.loads(j.read())\n",
    "\n",
    "ma_rates_A = moving_average_plot(bin_rates_A_complete, 'plots/', 'ma_rates_A')\n",
    "ma_rates_B = moving_average_plot(bin_rates_B_complete, 'plots/', 'ma_rates_B')\n",
    "\n",
    "trial_time = 3000\n",
    "bin_size = 5\n",
    "\n",
    "th = 15\n",
    "response_times = []\n",
    "response_times_A = calculate_response_times(ma_rates_A, th, trial_time, bin_size)\n",
    "for rt in response_times_A:\n",
    "    response_times.append(rt%1000)\n",
    "\n",
    "response_times_B = calculate_response_times(ma_rates_B, th, trial_time, bin_size)\n",
    "for rt in response_times_B:\n",
    "    response_times.append(rt%1000)\n",
    "\n",
    "print('VISUAL: ', response_times)\n",
    "\n",
    "response_times_visual = response_times\n",
    "\n",
    "\n",
    "\n",
    "# CDF plot for spike times\n",
    "import numpy as np\n",
    "import matplotlib.pyplot as plt\n",
    "\n",
    "race_model = np.minimum.reduce([response_times_visual, response_times_auditory])\n",
    "\n",
    "print('FINAL: ', race_model)\n",
    "\n",
    "def cdf_calc(data):\n",
    "    count, bins_count = np.histogram(data, bins=10)\n",
    "    pdf = count / sum(count)\n",
    "    cdf = np.cumsum(pdf)\n",
    "    return bins_count, cdf\n",
    "\n",
    "bins_count_visual, cdf_visual = cdf_calc(response_times_visual)\n",
    "bins_count_auditory, cdf_auditory = cdf_calc(response_times_auditory)\n",
    "bins_count_racemodel, cdf_racemodel = cdf_calc(race_model)\n",
    "  \n",
    "plt.xlim(0, 600)\n",
    "# plt.plot(bins_count[1:], pdf, color=\"red\", label=\"PDF\")\n",
    "plt.plot(bins_count_visual[1:], cdf_visual, '--o', label=\"CDF visual\")\n",
    "plt.plot(bins_count_auditory[1:], cdf_auditory, '--o', label=\"CDF auditory\")\n",
    "plt.plot(bins_count_racemodel[1:], cdf_racemodel, '--o', label=\"CDF racemodel\")\n",
    "plt.legend()\n",
    "plt.show()"
   ]
  },
  {
   "cell_type": "code",
   "execution_count": null,
   "id": "21875b7e",
   "metadata": {},
   "outputs": [],
   "source": []
  }
 ],
 "metadata": {
  "kernelspec": {
   "display_name": "Python 3.8.10 64-bit",
   "language": "python",
   "name": "python3"
  },
  "language_info": {
   "codemirror_mode": {
    "name": "ipython",
    "version": 3
   },
   "file_extension": ".py",
   "mimetype": "text/x-python",
   "name": "python",
   "nbconvert_exporter": "python",
   "pygments_lexer": "ipython3",
   "version": "3.8.10"
  },
  "vscode": {
   "interpreter": {
    "hash": "e7370f93d1d0cde622a1f8e1c04877d8463912d04d973331ad4851f04de6915a"
   }
  }
 },
 "nbformat": 4,
 "nbformat_minor": 5
}
