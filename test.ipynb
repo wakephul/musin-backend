{
 "cells": [
  {
   "cell_type": "code",
   "execution_count": 1,
   "metadata": {},
   "outputs": [
    {
     "name": "stdout",
     "output_type": "stream",
     "text": [
      "{'69e6587c-457d-4e8a-9f29-9afd1c1448ff': {'ee0c4811-b6e9-4b58-8d7a-199f04db6533': [0, 1], 'f8d6cb4d-7bde-4fa1-8687-0676f6367743': [0, 1]}}\n"
     ]
    }
   ],
   "source": [
    "original_dict = {\n",
    "    \"ee0c4811-b6e9-4b58-8d7a-199f04db6533\": {\n",
    "        \"69e6587c-457d-4e8a-9f29-9afd1c1448ff\": [0, 1]\n",
    "    },\n",
    "    \"f8d6cb4d-7bde-4fa1-8687-0676f6367743\": {\n",
    "        \"69e6587c-457d-4e8a-9f29-9afd1c1448ff\": [0, 1]\n",
    "    }\n",
    "}\n",
    "\n",
    "spikes_times = {}\n",
    "\n",
    "for input_key, network_dict in original_dict.items():\n",
    "    for inner_key, value in network_dict.items():\n",
    "        if inner_key not in spikes_times:\n",
    "            spikes_times[inner_key] = {}\n",
    "        spikes_times[inner_key][input_key] = {}\n",
    "\n",
    "print(spikes_times)"
   ]
  },
  {
   "cell_type": "code",
   "execution_count": null,
   "metadata": {},
   "outputs": [],
   "source": []
  }
 ],
 "metadata": {
  "kernelspec": {
   "display_name": "Python 3",
   "language": "python",
   "name": "python3"
  },
  "language_info": {
   "name": "python",
   "version": "3.10.14"
  }
 },
 "nbformat": 4,
 "nbformat_minor": 2
}
