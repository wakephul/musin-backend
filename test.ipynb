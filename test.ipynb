{
 "cells": [
  {
   "cell_type": "code",
   "execution_count": 8,
   "metadata": {},
   "outputs": [
    {
     "ename": "TypeError",
     "evalue": "tuple indices must be integers or slices, not str",
     "output_type": "error",
     "traceback": [
      "\u001b[0;31m---------------------------------------------------------------------------\u001b[0m",
      "\u001b[0;31mTypeError\u001b[0m                                 Traceback (most recent call last)",
      "Cell \u001b[0;32mIn[8], line 18\u001b[0m\n\u001b[1;32m     12\u001b[0m duration \u001b[38;5;241m=\u001b[39m \u001b[38;5;241m1000\u001b[39m\n\u001b[1;32m     14\u001b[0m \u001b[38;5;66;03m#per ciascuna side\u001b[39;00m\n\u001b[1;32m     15\u001b[0m \u001b[38;5;66;03m#per ciascun elemento nella lista spike_times\u001b[39;00m\n\u001b[1;32m     16\u001b[0m \u001b[38;5;66;03m#mappa la funziona che prende i tempi di spike e li trasla di duration * i, mappata tante volte quante sono le side_sequence\u001b[39;00m\n\u001b[1;32m     17\u001b[0m \u001b[38;5;66;03m#solo se la side_sequence è uguale all'indice della side\u001b[39;00m\n\u001b[0;32m---> 18\u001b[0m new_spike_times \u001b[38;5;241m=\u001b[39m [\n\u001b[1;32m     19\u001b[0m     [\n\u001b[1;32m     20\u001b[0m         \u001b[38;5;28mlist\u001b[39m(\u001b[38;5;28mmap\u001b[39m(\u001b[38;5;28;01mlambda\u001b[39;00m x: x \u001b[38;5;241m+\u001b[39m duration \u001b[38;5;241m*\u001b[39m i, side[\u001b[38;5;124m'\u001b[39m\u001b[38;5;124mspike_times\u001b[39m\u001b[38;5;124m'\u001b[39m]))\n\u001b[1;32m     21\u001b[0m         \u001b[38;5;28;01mfor\u001b[39;00m i \u001b[38;5;129;01min\u001b[39;00m \u001b[38;5;28mrange\u001b[39m(\u001b[38;5;28mlen\u001b[39m(sides_sequence))\n\u001b[1;32m     22\u001b[0m         \u001b[38;5;28;01mif\u001b[39;00m sides_sequence[i] \u001b[38;5;241m==\u001b[39m j\n\u001b[1;32m     23\u001b[0m     ]\n\u001b[1;32m     24\u001b[0m     \u001b[38;5;28;01mfor\u001b[39;00m j, side \u001b[38;5;129;01min\u001b[39;00m \u001b[38;5;28menumerate\u001b[39m(sides)\n\u001b[1;32m     25\u001b[0m ]\n\u001b[1;32m     27\u001b[0m \u001b[38;5;28mprint\u001b[39m(new_spike_times)\n",
      "Cell \u001b[0;32mIn[8], line 19\u001b[0m, in \u001b[0;36m<listcomp>\u001b[0;34m(.0)\u001b[0m\n\u001b[1;32m     12\u001b[0m duration \u001b[38;5;241m=\u001b[39m \u001b[38;5;241m1000\u001b[39m\n\u001b[1;32m     14\u001b[0m \u001b[38;5;66;03m#per ciascuna side\u001b[39;00m\n\u001b[1;32m     15\u001b[0m \u001b[38;5;66;03m#per ciascun elemento nella lista spike_times\u001b[39;00m\n\u001b[1;32m     16\u001b[0m \u001b[38;5;66;03m#mappa la funziona che prende i tempi di spike e li trasla di duration * i, mappata tante volte quante sono le side_sequence\u001b[39;00m\n\u001b[1;32m     17\u001b[0m \u001b[38;5;66;03m#solo se la side_sequence è uguale all'indice della side\u001b[39;00m\n\u001b[1;32m     18\u001b[0m new_spike_times \u001b[38;5;241m=\u001b[39m [\n\u001b[0;32m---> 19\u001b[0m     [\n\u001b[1;32m     20\u001b[0m         \u001b[38;5;28mlist\u001b[39m(\u001b[38;5;28mmap\u001b[39m(\u001b[38;5;28;01mlambda\u001b[39;00m x: x \u001b[38;5;241m+\u001b[39m duration \u001b[38;5;241m*\u001b[39m i, side[\u001b[38;5;124m'\u001b[39m\u001b[38;5;124mspike_times\u001b[39m\u001b[38;5;124m'\u001b[39m]))\n\u001b[1;32m     21\u001b[0m         \u001b[38;5;28;01mfor\u001b[39;00m i \u001b[38;5;129;01min\u001b[39;00m \u001b[38;5;28mrange\u001b[39m(\u001b[38;5;28mlen\u001b[39m(sides_sequence))\n\u001b[1;32m     22\u001b[0m         \u001b[38;5;28;01mif\u001b[39;00m sides_sequence[i] \u001b[38;5;241m==\u001b[39m j\n\u001b[1;32m     23\u001b[0m     ]\n\u001b[1;32m     24\u001b[0m     \u001b[38;5;28;01mfor\u001b[39;00m j, side \u001b[38;5;129;01min\u001b[39;00m \u001b[38;5;28menumerate\u001b[39m(sides)\n\u001b[1;32m     25\u001b[0m ]\n\u001b[1;32m     27\u001b[0m \u001b[38;5;28mprint\u001b[39m(new_spike_times)\n",
      "Cell \u001b[0;32mIn[8], line 20\u001b[0m, in \u001b[0;36m<listcomp>\u001b[0;34m(.0)\u001b[0m\n\u001b[1;32m     12\u001b[0m duration \u001b[38;5;241m=\u001b[39m \u001b[38;5;241m1000\u001b[39m\n\u001b[1;32m     14\u001b[0m \u001b[38;5;66;03m#per ciascuna side\u001b[39;00m\n\u001b[1;32m     15\u001b[0m \u001b[38;5;66;03m#per ciascun elemento nella lista spike_times\u001b[39;00m\n\u001b[1;32m     16\u001b[0m \u001b[38;5;66;03m#mappa la funziona che prende i tempi di spike e li trasla di duration * i, mappata tante volte quante sono le side_sequence\u001b[39;00m\n\u001b[1;32m     17\u001b[0m \u001b[38;5;66;03m#solo se la side_sequence è uguale all'indice della side\u001b[39;00m\n\u001b[1;32m     18\u001b[0m new_spike_times \u001b[38;5;241m=\u001b[39m [\n\u001b[1;32m     19\u001b[0m     [\n\u001b[0;32m---> 20\u001b[0m         \u001b[38;5;28mlist\u001b[39m(\u001b[38;5;28mmap\u001b[39m(\u001b[38;5;28;01mlambda\u001b[39;00m x: x \u001b[38;5;241m+\u001b[39m duration \u001b[38;5;241m*\u001b[39m i, \u001b[43mside\u001b[49m\u001b[43m[\u001b[49m\u001b[38;5;124;43m'\u001b[39;49m\u001b[38;5;124;43mspike_times\u001b[39;49m\u001b[38;5;124;43m'\u001b[39;49m\u001b[43m]\u001b[49m))\n\u001b[1;32m     21\u001b[0m         \u001b[38;5;28;01mfor\u001b[39;00m i \u001b[38;5;129;01min\u001b[39;00m \u001b[38;5;28mrange\u001b[39m(\u001b[38;5;28mlen\u001b[39m(sides_sequence))\n\u001b[1;32m     22\u001b[0m         \u001b[38;5;28;01mif\u001b[39;00m sides_sequence[i] \u001b[38;5;241m==\u001b[39m j\n\u001b[1;32m     23\u001b[0m     ]\n\u001b[1;32m     24\u001b[0m     \u001b[38;5;28;01mfor\u001b[39;00m j, side \u001b[38;5;129;01min\u001b[39;00m \u001b[38;5;28menumerate\u001b[39m(sides)\n\u001b[1;32m     25\u001b[0m ]\n\u001b[1;32m     27\u001b[0m \u001b[38;5;28mprint\u001b[39m(new_spike_times)\n",
      "\u001b[0;31mTypeError\u001b[0m: tuple indices must be integers or slices, not str"
     ]
    }
   ],
   "source": [
    "sides = [\n",
    "    ({'spike_times': [20, 30, 40]},\n",
    "    {'spike_times': [120, 130, 140]},\n",
    "    {'spike_times': [220, 230, 240]}),\n",
    "    ({'spike_times': [60, 70, 80]},\n",
    "    {'spike_times': [160, 170, 180]},\n",
    "    {'spike_times': [260, 270, 280]})\n",
    "\n",
    "]\n",
    "sides_sequence = [0, 1, 1, 0]\n",
    "\n",
    "duration = 1000\n",
    "\n",
    "#per ciascuna side\n",
    "#per ciascun elemento nella lista spike_times\n",
    "#mappa la funziona che prende i tempi di spike e li trasla di duration * i, mappata tante volte quante sono le side_sequence\n",
    "#solo se la side_sequence è uguale all'indice della side\n",
    "print(enumerate(sides))\n",
    "new_spike_times = [\n",
    "    [\n",
    "        list(map(lambda x: x + duration * i, side['spike_times']))\n",
    "        for i in range(len(sides_sequence))\n",
    "        if sides_sequence[i] == j\n",
    "    ]\n",
    "    for j, side in enumerate(sides)\n",
    "]\n",
    "\n",
    "print(new_spike_times)\n"
   ]
  },
  {
   "cell_type": "code",
   "execution_count": null,
   "metadata": {},
   "outputs": [],
   "source": []
  }
 ],
 "metadata": {
  "kernelspec": {
   "display_name": "Python 3",
   "language": "python",
   "name": "python3"
  },
  "language_info": {
   "codemirror_mode": {
    "name": "ipython",
    "version": 3
   },
   "file_extension": ".py",
   "mimetype": "text/x-python",
   "name": "python",
   "nbconvert_exporter": "python",
   "pygments_lexer": "ipython3",
   "version": "3.10.14"
  }
 },
 "nbformat": 4,
 "nbformat_minor": 2
}
